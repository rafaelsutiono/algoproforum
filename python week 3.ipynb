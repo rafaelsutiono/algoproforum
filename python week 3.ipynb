{
 "cells": [
  {
   "cell_type": "code",
   "execution_count": null,
   "metadata": {},
   "outputs": [],
   "source": [
    "#1. Write a Python program which accepts the radius of a circle from the user and compute the area\n",
    "\n",
    "# import math\n",
    "# rad = eval(input(\"Please enter the radius of your circle in cm: \"))\n",
    "# area = math.pi * (rad**2)\n",
    "# print(\"The area of your circle is:\",area,\"cm**2\")"
   ]
  },
  {
   "cell_type": "code",
   "execution_count": null,
   "metadata": {},
   "outputs": [],
   "source": [
    "#2. Write a Python program which accepts the user's first and last name and print them in reverse order with a space between them.\n",
    "\n",
    "# fn = input(\"Enter your first name: \")\n",
    "# ln = input(\"Enter your last name: \")\n",
    "# print(ln,fn)"
   ]
  },
  {
   "cell_type": "code",
   "execution_count": null,
   "metadata": {},
   "outputs": [],
   "source": [
    "#3. Write a Python program to display the first and last colors from the following list.\n",
    "\n",
    "# color_list = [\"Red\",\"Green\",\"White\",\"Black\"]\n",
    "# print(color_list[0],color_list[3])"
   ]
  },
  {
   "cell_type": "code",
   "execution_count": null,
   "metadata": {},
   "outputs": [],
   "source": [
    "#4. Write a Python program that accepts an integer (n) and computes the value of n+nn+nnn.\n",
    "\n",
    "# n = eval(input(\"Input an integer: \"))\n",
    "# sum = n + n**2 + n**3\n",
    "# print(sum)"
   ]
  },
  {
   "cell_type": "code",
   "execution_count": null,
   "metadata": {},
   "outputs": [],
   "source": [
    "#5. Write a Python program to get the volume of a sphere with radius 6.\n",
    "\n",
    "# import math\n",
    "# r = 6\n",
    "# sphere = 4/3 * math.pi * r**3\n",
    "# print(sphere)"
   ]
  },
  {
   "cell_type": "code",
   "execution_count": null,
   "metadata": {},
   "outputs": [],
   "source": [
    "#6. Write a Python program to get the difference between a given number and 17, if the number is greater than 17 return double the absolute difference.\n",
    "\n",
    "# num = int(input(\"Enter an integer: \"))\n",
    "# if num > 17:\n",
    "#     result = (num-17)*2\n",
    "#     print(result)\n",
    "# else:\n",
    "#     result = num-17\n",
    "#     print(result)"
   ]
  },
  {
   "cell_type": "code",
   "execution_count": null,
   "metadata": {},
   "outputs": [],
   "source": [
    "#7. Write a Python program to calculate the sum of three given numbers, if the values are equal then return thrice of their sum.\n",
    "\n",
    "# num1 = eval(input(\"Enter a number: \"))\n",
    "# num2 = eval(input(\"Enter a second number: \"))\n",
    "# num3 = eval(input(\"Enter a third number: \"))\n",
    "\n",
    "# if num1 == num2 == num3:\n",
    "#     sum = (num1 + num2 + num3)*3\n",
    "#     print(sum)\n",
    "# else:\n",
    "#     sum = num1 + num2 + num3\n",
    "#     print(sum)"
   ]
  },
  {
   "cell_type": "code",
   "execution_count": null,
   "metadata": {},
   "outputs": [],
   "source": [
    "#8. Write a Python program to find whether a given number (accept from the user) is even or odd, print out an appropriate message to the user.\n",
    "\n",
    "# num = int(input(\"Enter a whole number: \"))\n",
    "# if num%2==0:\n",
    "#     print(\"Your number is an even number.\")\n",
    "# else:\n",
    "#     print(\"Your number is an odd number.\")"
   ]
  },
  {
   "cell_type": "code",
   "execution_count": null,
   "metadata": {},
   "outputs": [],
   "source": [
    "#9. Write a Python program to test whether a letter is a vowel or not.\n",
    "\n",
    "# yes = input(\"Enter a letter: \")\n",
    "# vowel = [\"a\",\"e\",\"i\",\"o\",\"u\",\"y\",\"A\",\"E\",\"I\",\"O\",\"U\",\"Y\"]\n",
    "\n",
    "# if yes in vowel:\n",
    "#     print(\"Your letter is a vowel\")\n",
    "# else:\n",
    "#     print(\"Your letter is not a vowel\")"
   ]
  },
  {
   "cell_type": "code",
   "execution_count": null,
   "metadata": {},
   "outputs": [],
   "source": [
    "#10. Write a Python program to check whether a specified value is contained in a group of values.\n",
    "\n",
    "# list = [0,1,2,3,4,5,6,7,8,9,10]\n",
    "# value = eval(input(\"Enter a number: \"))\n",
    "# if value in list:\n",
    "#     print(\"This number is VALID!!!\")\n",
    "# else:\n",
    "#     print(\"Get out lol u ain't valid\")"
   ]
  },
  {
   "cell_type": "code",
   "execution_count": null,
   "metadata": {},
   "outputs": [],
   "source": [
    "#11. Write a Python program to create a histogram from a given list of integers.\n",
    "\n",
    "# nos = [0,1,1,2,3,4,8,34,46,46,47]\n",
    "# hist = {}\n",
    "# for i in nos:\n",
    "#     hist[i] = hist.get(i,0) + 1\n",
    "# print(hist)"
   ]
  },
  {
   "cell_type": "code",
   "execution_count": null,
   "metadata": {},
   "outputs": [],
   "source": [
    "#12. Write a Python program to print all even numbers from a given numbers list in the same order.\n",
    "\n",
    "# no = [765,347,752,258,250,178,382,329,395,327,185,380,911,193,294,584]\n",
    "# no2 = []\n",
    "# for x in no:\n",
    "#     if x%2 == 0:\n",
    "#         no2.append(x)\n",
    "# no2.sort()\n",
    "# print(no2)"
   ]
  },
  {
   "cell_type": "code",
   "execution_count": null,
   "metadata": {},
   "outputs": [],
   "source": [
    "#13. Write a Python program that will accept the base and height of a triangle and compute the area.\n",
    "\n",
    "# b = eval(input(\"Enter the base of your triangle in cm: \"))\n",
    "# h = eval(input(\"Enter the height of your triangle in cm: \"))\n",
    "# a = 0.5*b*h\n",
    "# print(\"The area of your triangle is\",a,\"cm**2\")"
   ]
  },
  {
   "cell_type": "code",
   "execution_count": null,
   "metadata": {},
   "outputs": [],
   "source": [
    "#14. Write a Python program to get the least common multiple (LCM) of two positive integers.\n",
    "\n",
    "# x = int(input(\"Enter a positive integer: \"))\n",
    "# y = int(input(\"Enter a second positive integer: \"))\n",
    "# if x>y:\n",
    "#     bigger = x\n",
    "# else:\n",
    "#     bigger = y\n",
    "# while True:\n",
    "#     if bigger%x==0 and bigger%y==0:\n",
    "#         print(\"The LCM of\",x,\"and\",y,\"is\",bigger)\n",
    "#         break\n",
    "#     else:\n",
    "#         bigger=bigger+1"
   ]
  },
  {
   "cell_type": "code",
   "execution_count": null,
   "metadata": {},
   "outputs": [],
   "source": [
    "#15. Write a Python program to sum of three given integers. However, if two values are equal sum will be zero.\n",
    "\n",
    "# num1 = int(input(\"Enter an integer: \"))\n",
    "# num2 = int(input(\"Enter a second integer: \"))\n",
    "# num3 = int(input(\"Enter a third integer: \"))\n",
    "# if num1 == num2 or num1 == num3 or num2 == num3:\n",
    "#     print(\"0\")\n",
    "# else:\n",
    "#     sum = num1 + num2 + num3\n",
    "#     print(sum)"
   ]
  },
  {
   "cell_type": "code",
   "execution_count": null,
   "metadata": {},
   "outputs": [],
   "source": [
    "#16. Write a Python program to solve (x + y) * (x + y).\n",
    "\n",
    "# print(\"(x + y) * (x + y)\")\n",
    "# x = eval(input(\"Enter a number for x: \"))\n",
    "# y = eval(input(\"Enter a number for y: \"))\n",
    "# yes = (x+y)*(x+y)\n",
    "# print(\"(\",x,\"+\",y,\") ^ 2 =\",yes)"
   ]
  },
  {
   "cell_type": "code",
   "execution_count": null,
   "metadata": {},
   "outputs": [],
   "source": [
    "#17. Write a Python program to compute the future value of a specified principal amount, rate of interest, and a number of years.\n",
    "\n",
    "# amount = eval(input(\"Input your principal investment: $\"))\n",
    "# years = eval(input(\"Input the amount of years you'd like to invest for: \"))\n",
    "# rate = eval(input(\"Input the interest rate as a number: \"))\n",
    "# finalamt = amount*((1 + (rate/100))**years)\n",
    "# print(\"Your return is $\"+\"{:0,.2f}\".format(finalamt))"
   ]
  },
  {
   "cell_type": "code",
   "execution_count": null,
   "metadata": {},
   "outputs": [],
   "source": [
    "#18. Write a Python program to compute the distance between the points (x1, y1) and (x2, y2).\n",
    "\n",
    "# import math\n",
    "# x1 = eval(input(\"Enter x-coordinate of point 1: \"))\n",
    "# y1 = eval(input(\"Enter y-coordinate of point 1: \"))\n",
    "# x2 = eval(input(\"Enter x-coordinate of point 2: \"))\n",
    "# y2 = eval(input(\"Enter y-coordinate of point 2: \"))\n",
    "# d = math.sqrt((x1-y1)**2+(x2-y2)**2)\n",
    "# print(\"The distance between your two points is\",d)"
   ]
  },
  {
   "cell_type": "code",
   "execution_count": null,
   "metadata": {},
   "outputs": [],
   "source": [
    "#19. Write a python program to sum of the first n positive integers.\n",
    "\n",
    "# no = eval(input(\"Input the amount to sum the first n positive integers: \"))\n",
    "# summ = sum(range(no+1))\n",
    "# print(\"The sum of the first\",no,\"positive integers is\",summ)"
   ]
  },
  {
   "cell_type": "code",
   "execution_count": null,
   "metadata": {},
   "outputs": [],
   "source": [
    "#20. Write a Python program to convert height (in feet and inches) to centimeters.\n",
    "\n",
    "# ft,inch = eval(input(\"Enter your height in feet and inches separated by a comma: \"))\n",
    "# hincm = ft*30.48+inch*2.54\n",
    "# print(\"Your height in cm is\",hincm,\"cm\")"
   ]
  },
  {
   "cell_type": "code",
   "execution_count": null,
   "metadata": {},
   "outputs": [],
   "source": [
    "#21. Write a Python program to calculate the hypotenuse of a right angled triangle.\n",
    "\n",
    "# import math\n",
    "# s1 = eval(input(\"Enter the length of side 1 in cm:\"))\n",
    "# s2 = eval(input(\"Enter the length of side 2 in cm:\"))\n",
    "# h = math.sqrt(s1**2 + s2**2)\n",
    "# print(\"The length of the hypotenuse is\",h,\"cm\")"
   ]
  },
  {
   "cell_type": "code",
   "execution_count": null,
   "metadata": {},
   "outputs": [],
   "source": [
    "#22. Write a Python program to calculate body mass index.\n",
    "\n",
    "# w = eval(input(\"Enter your mass in kg: \"))\n",
    "# h = eval(input(\"Enter your height in m: \"))\n",
    "# bmi = w/(h**2)\n",
    "# print(\"Your BMI is\",bmi)"
   ]
  },
  {
   "cell_type": "code",
   "execution_count": null,
   "metadata": {},
   "outputs": [],
   "source": [
    "#23. Write a Python program to calculate midpoints of a line.\n",
    "\n",
    "# x1 = eval(input(\"Enter x-coordinate of point 1: \"))\n",
    "# y1 = eval(input(\"Enter y-coordinate of point 1: \"))\n",
    "# x2 = eval(input(\"Enter x-coordinate of point 2: \"))\n",
    "# y2 = eval(input(\"Enter y-coordinate of point 2: \"))\n",
    "# mpx,mpy = ((x1+x2)/2),((y1+y2)/2)\n",
    "# print(\"The midpoint is\",mpx,\",\",mpy)"
   ]
  },
  {
   "cell_type": "code",
   "execution_count": null,
   "metadata": {},
   "outputs": [],
   "source": [
    "#24. Write a program which will find all such numbers which are divisible by 7 but are not a multiple of 5, between 2000 and 3200 (both included). The numbers obtained should be printed in a comma-separated sequence on a single line.\n",
    "\n",
    "# yes=[]\n",
    "# for x in range(2000,3201):\n",
    "#     if x%7==0 and x%5!=0:\n",
    "#         yes.append(x)\n",
    "# print(yes)"
   ]
  }
 ],
 "metadata": {
  "kernelspec": {
   "display_name": "Python 3.10.7 64-bit",
   "language": "python",
   "name": "python3"
  },
  "language_info": {
   "name": "python",
   "version": "3.10.7"
  },
  "orig_nbformat": 4,
  "vscode": {
   "interpreter": {
    "hash": "5722daad9755055b013a651651e76bfefcd0039befef69efb03fa00fbea6a530"
   }
  }
 },
 "nbformat": 4,
 "nbformat_minor": 2
}
